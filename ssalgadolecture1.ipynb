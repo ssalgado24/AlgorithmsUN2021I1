{
  "nbformat": 4,
  "nbformat_minor": 0,
  "metadata": {
    "kernelspec": {
      "name": "python3",
      "display_name": "Python 3"
    },
    "colab": {
      "name": "ssalgadolecture1.ipynb",
      "provenance": [],
      "collapsed_sections": [
        "EjNuPxCxmBqS"
      ],
      "include_colab_link": true
    }
  },
  "cells": [
    {
      "cell_type": "markdown",
      "metadata": {
        "id": "view-in-github",
        "colab_type": "text"
      },
      "source": [
        "<a href=\"https://colab.research.google.com/github/ssalgado24/AlgorithmsUN2021I1/blob/Lab1/ssalgadolecture1.ipynb\" target=\"_parent\"><img src=\"https://colab.research.google.com/assets/colab-badge.svg\" alt=\"Open In Colab\"/></a>"
      ]
    },
    {
      "cell_type": "markdown",
      "metadata": {
        "id": "DyU2Xj6UmBqK"
      },
      "source": [
        "#Introduction to the Research Environment\n",
        "\n",
        "The research environment is powered by IPython notebooks, which allow one to perform a great deal of data analysis and statistical validation. We'll demonstrate a few simple techniques here."
      ]
    },
    {
      "cell_type": "markdown",
      "metadata": {
        "id": "EjNuPxCxmBqS"
      },
      "source": [
        "##Code Cells vs. Text Cells\n",
        "\n",
        "As you can see, each cell can be either code or text. To select between them, choose from the 'Cell Type' dropdown menu on the top left."
      ]
    },
    {
      "cell_type": "markdown",
      "metadata": {
        "id": "7dUQIIrPmBqT"
      },
      "source": [
        "##Executing a Command\n",
        "\n",
        "A code cell will be evaluated when you press play, or when you press the shortcut, shift-enter. Evaluating a cell evaluates each line of code in sequence, and prints the results of the last line below the cell."
      ]
    },
    {
      "cell_type": "code",
      "metadata": {
        "colab": {
          "base_uri": "https://localhost:8080/"
        },
        "id": "o8HEfvtwmBqU",
        "outputId": "65950f72-4167-447a-943c-b867deb1327b"
      },
      "source": [
        "2 + 2"
      ],
      "execution_count": 33,
      "outputs": [
        {
          "output_type": "execute_result",
          "data": {
            "text/plain": [
              "4"
            ]
          },
          "metadata": {
            "tags": []
          },
          "execution_count": 33
        }
      ]
    },
    {
      "cell_type": "code",
      "metadata": {
        "colab": {
          "base_uri": "https://localhost:8080/"
        },
        "id": "BmXENN9FuxDG",
        "outputId": "b29778f1-cd46-4bd2-c0b4-044f480fe628"
      },
      "source": [
        "25+36"
      ],
      "execution_count": 34,
      "outputs": [
        {
          "output_type": "execute_result",
          "data": {
            "text/plain": [
              "61"
            ]
          },
          "metadata": {
            "tags": []
          },
          "execution_count": 34
        }
      ]
    },
    {
      "cell_type": "markdown",
      "metadata": {
        "id": "SrnhVEGOxjpW"
      },
      "source": [
        "La suma de $25 + 36 = 61$"
      ]
    },
    {
      "cell_type": "markdown",
      "metadata": {
        "id": "Qs8W7cYwmBqU"
      },
      "source": [
        "Sometimes there is no result to be printed, as is the case with assignment."
      ]
    },
    {
      "cell_type": "code",
      "metadata": {
        "collapsed": true,
        "id": "DpKCw_mamBqV"
      },
      "source": [
        "X = 2"
      ],
      "execution_count": 35,
      "outputs": []
    },
    {
      "cell_type": "code",
      "metadata": {
        "id": "Svtkt9JMu2ax"
      },
      "source": [
        "z = 8"
      ],
      "execution_count": 36,
      "outputs": []
    },
    {
      "cell_type": "code",
      "metadata": {
        "colab": {
          "base_uri": "https://localhost:8080/"
        },
        "id": "xIpPgqUiSxa0",
        "outputId": "0bdc8cf3-5ba1-4910-e5b9-f9abbdea509e"
      },
      "source": [
        "z"
      ],
      "execution_count": 37,
      "outputs": [
        {
          "output_type": "execute_result",
          "data": {
            "text/plain": [
              "8"
            ]
          },
          "metadata": {
            "tags": []
          },
          "execution_count": 37
        }
      ]
    },
    {
      "cell_type": "markdown",
      "metadata": {
        "id": "7qoURH4KmBqV"
      },
      "source": [
        "Remember that only the result from the last line is printed."
      ]
    },
    {
      "cell_type": "code",
      "metadata": {
        "colab": {
          "base_uri": "https://localhost:8080/"
        },
        "id": "Di4vO7K2mBqV",
        "outputId": "dff40ae6-b76e-4e5b-cab7-5f10b036e4b0"
      },
      "source": [
        "2 + 2\n",
        "3 + 3"
      ],
      "execution_count": 38,
      "outputs": [
        {
          "output_type": "execute_result",
          "data": {
            "text/plain": [
              "6"
            ]
          },
          "metadata": {
            "tags": []
          },
          "execution_count": 38
        }
      ]
    },
    {
      "cell_type": "code",
      "metadata": {
        "colab": {
          "base_uri": "https://localhost:8080/"
        },
        "id": "uvT0rbhN28Qc",
        "outputId": "82477148-0b3a-4898-de7e-716fee931135"
      },
      "source": [
        "225+336\r\n",
        "210-98\r\n"
      ],
      "execution_count": 39,
      "outputs": [
        {
          "output_type": "execute_result",
          "data": {
            "text/plain": [
              "112"
            ]
          },
          "metadata": {
            "tags": []
          },
          "execution_count": 39
        }
      ]
    },
    {
      "cell_type": "markdown",
      "metadata": {
        "id": "paOI_xtF6ohH"
      },
      "source": [
        "Ejecuta solo la última línea $210 - 98 = 112$"
      ]
    },
    {
      "cell_type": "markdown",
      "metadata": {
        "id": "yy7QgBWBmBqW"
      },
      "source": [
        "However, you can print whichever lines you want using the `print` statement."
      ]
    },
    {
      "cell_type": "code",
      "metadata": {
        "colab": {
          "base_uri": "https://localhost:8080/"
        },
        "id": "-m1HT2MsmBqW",
        "outputId": "2290a31d-2619-49bd-b682-d1c8822a8036"
      },
      "source": [
        "print (2 + 2)\n",
        "3 + 3"
      ],
      "execution_count": 40,
      "outputs": [
        {
          "output_type": "stream",
          "text": [
            "4\n"
          ],
          "name": "stdout"
        },
        {
          "output_type": "execute_result",
          "data": {
            "text/plain": [
              "6"
            ]
          },
          "metadata": {
            "tags": []
          },
          "execution_count": 40
        }
      ]
    },
    {
      "cell_type": "code",
      "metadata": {
        "colab": {
          "base_uri": "https://localhost:8080/"
        },
        "id": "IR8Twk4zEAH1",
        "outputId": "20f99384-a706-4d4e-fd32-27f3ce1323b6"
      },
      "source": [
        "print (59 + 14)\r\n",
        "32+69"
      ],
      "execution_count": 41,
      "outputs": [
        {
          "output_type": "stream",
          "text": [
            "73\n"
          ],
          "name": "stdout"
        },
        {
          "output_type": "execute_result",
          "data": {
            "text/plain": [
              "101"
            ]
          },
          "metadata": {
            "tags": []
          },
          "execution_count": 41
        }
      ]
    },
    {
      "cell_type": "markdown",
      "metadata": {
        "id": "FkjsGiwAmBqW"
      },
      "source": [
        "##Knowing When a Cell is Running\n",
        "\n",
        "While a cell is running, a `[*]` will display on the left. When a cell has yet to be executed, `[ ]` will display. When it has been run, a number will display indicating the order in which it was run during the execution of the notebook `[5]`. Try on this cell and note it happening."
      ]
    },
    {
      "cell_type": "code",
      "metadata": {
        "colab": {
          "base_uri": "https://localhost:8080/"
        },
        "id": "ed4ZQHxUmBqX",
        "outputId": "c35b0aed-62b9-4449-8585-e6ed3f2b8c1e"
      },
      "source": [
        "#Take some time to run something\n",
        "c = 0\n",
        "for i in range(10000000):\n",
        "    c = c + i\n",
        "c"
      ],
      "execution_count": 42,
      "outputs": [
        {
          "output_type": "execute_result",
          "data": {
            "text/plain": [
              "49999995000000"
            ]
          },
          "metadata": {
            "tags": []
          },
          "execution_count": 42
        }
      ]
    },
    {
      "cell_type": "code",
      "metadata": {
        "colab": {
          "base_uri": "https://localhost:8080/"
        },
        "id": "6clQHqSXQamV",
        "outputId": "f57938b9-7bc5-4be2-92ce-9a086145361a"
      },
      "source": [
        "x=0\r\n",
        "for i in range(10000000):\r\n",
        "    x= x -i\r\n",
        "x"
      ],
      "execution_count": 43,
      "outputs": [
        {
          "output_type": "execute_result",
          "data": {
            "text/plain": [
              "-49999995000000"
            ]
          },
          "metadata": {
            "tags": []
          },
          "execution_count": 43
        }
      ]
    },
    {
      "cell_type": "markdown",
      "metadata": {
        "id": "Qo_ybsRomBqX"
      },
      "source": [
        "##Importing Libraries\n",
        "\n",
        "The vast majority of the time, you'll want to use functions from pre-built libraries. You can't import every library on Quantopian due to security issues, but you can import most of the common scientific ones. Here I import numpy and pandas, the two most common and useful libraries in quant finance. I recommend copying this import statement to every new notebook.\n",
        "\n",
        "Notice that you can rename libraries to whatever you want after importing. The `as` statement allows this. Here we use `np` and `pd` as aliases for `numpy` and `pandas`. This is a very common aliasing and will be found in most code snippets around the web. The point behind this is to allow you to type fewer characters when you are frequently accessing these libraries."
      ]
    },
    {
      "cell_type": "code",
      "metadata": {
        "collapsed": true,
        "id": "NfudOOQRmBqY"
      },
      "source": [
        "import numpy as np\n",
        "import pandas as pd\n",
        "\n",
        "# This is a plotting library for pretty pictures.\n",
        "import matplotlib.pyplot as plt"
      ],
      "execution_count": 44,
      "outputs": []
    },
    {
      "cell_type": "code",
      "metadata": {
        "colab": {
          "base_uri": "https://localhost:8080/"
        },
        "id": "RbAWW30epNGl",
        "outputId": "430925dd-f9f6-478b-af3c-5a86f7a06327"
      },
      "source": [
        "np.mean([1, 2, 3, 4, 7])"
      ],
      "execution_count": 45,
      "outputs": [
        {
          "output_type": "execute_result",
          "data": {
            "text/plain": [
              "3.4"
            ]
          },
          "metadata": {
            "tags": []
          },
          "execution_count": 45
        }
      ]
    },
    {
      "cell_type": "markdown",
      "metadata": {
        "id": "haVBZPvqmBqY"
      },
      "source": [
        "##Tab Autocomplete\n",
        "\n",
        "Pressing tab will give you a list of IPython's best guesses for what you might want to type next. This is incredibly valuable and will save you a lot of time. If there is only one possible option for what you could type next, IPython will fill that in for you. Try pressing tab very frequently, it will seldom fill in anything you don't want, as if there is ambiguity a list will be shown. This is a great way to see what functions are available in a library.\n",
        "\n",
        "Try placing your cursor after the `.` and pressing tab."
      ]
    },
    {
      "cell_type": "code",
      "metadata": {
        "colab": {
          "base_uri": "https://localhost:8080/"
        },
        "id": "6JrWhWlNqvUk",
        "outputId": "36d77c09-2cd8-46ce-e7ea-a84ad917faa5"
      },
      "source": [
        "np.random.normal"
      ],
      "execution_count": 46,
      "outputs": [
        {
          "output_type": "execute_result",
          "data": {
            "text/plain": [
              "<function RandomState.normal>"
            ]
          },
          "metadata": {
            "tags": []
          },
          "execution_count": 46
        }
      ]
    },
    {
      "cell_type": "code",
      "metadata": {
        "colab": {
          "base_uri": "https://localhost:8080/"
        },
        "id": "mCLiqAb0rCb0",
        "outputId": "c87b0650-36de-4ff7-ea52-916b1d0c6e1a"
      },
      "source": [
        "np.random.gamma"
      ],
      "execution_count": 47,
      "outputs": [
        {
          "output_type": "execute_result",
          "data": {
            "text/plain": [
              "<function RandomState.gamma>"
            ]
          },
          "metadata": {
            "tags": []
          },
          "execution_count": 47
        }
      ]
    },
    {
      "cell_type": "markdown",
      "metadata": {
        "id": "dcDmQLeamBqZ"
      },
      "source": [
        "##Getting Documentation Help\n",
        "\n",
        "Placing a question mark after a function and executing that line of code will give you the documentation IPython has for that function. It's often best to do this in a new cell, as you avoid re-executing other code and running into bugs."
      ]
    },
    {
      "cell_type": "code",
      "metadata": {
        "collapsed": true,
        "id": "lkyGGRRGmBqZ"
      },
      "source": [
        "np.random.normal?"
      ],
      "execution_count": 48,
      "outputs": []
    },
    {
      "cell_type": "code",
      "metadata": {
        "id": "Az08KDOZuC1c"
      },
      "source": [
        "np.random.gamma?"
      ],
      "execution_count": 49,
      "outputs": []
    },
    {
      "cell_type": "markdown",
      "metadata": {
        "id": "CD0Ifql8mBqZ"
      },
      "source": [
        "##Sampling\n",
        "\n",
        "We'll sample some random data using a function from `numpy`."
      ]
    },
    {
      "cell_type": "code",
      "metadata": {
        "id": "km2TFI_rmBqa"
      },
      "source": [
        "# Sample 100 points with a mean of 0 and an std of 1. This is a standard normal distribution.\n",
        "X = np.random.normal(0, 1, 100)"
      ],
      "execution_count": 50,
      "outputs": []
    },
    {
      "cell_type": "code",
      "metadata": {
        "colab": {
          "base_uri": "https://localhost:8080/"
        },
        "id": "eywN2mdAucWX",
        "outputId": "034f1cb4-9b3a-4993-81da-813d362885b5"
      },
      "source": [
        "X"
      ],
      "execution_count": 51,
      "outputs": [
        {
          "output_type": "execute_result",
          "data": {
            "text/plain": [
              "array([ 0.7859123 , -0.56226765, -0.57165754,  0.17673526,  0.78412451,\n",
              "        1.64549402, -0.24493796,  0.83605157,  1.58735193, -0.20712369,\n",
              "       -0.72695529, -1.15022281, -1.32943889,  0.5307831 ,  0.85169536,\n",
              "        0.37322242, -0.20299638, -1.00436925, -1.10135131,  0.81303317,\n",
              "       -0.36249235,  1.95825189, -0.40870854,  0.05535515, -0.16018567,\n",
              "        0.3997523 , -0.60675708,  2.71806704,  0.88817889,  0.19889342,\n",
              "        0.53849992, -1.63433798,  0.46874694,  1.69874069,  0.71136344,\n",
              "       -0.96160256, -0.40778925,  0.33427488,  0.19396955, -0.81865505,\n",
              "        1.2676164 ,  2.16008085,  0.39856272, -0.03740181, -1.01438666,\n",
              "        0.60241137,  0.93501254,  0.05074653, -0.33068761, -1.93884557,\n",
              "       -0.9357615 , -0.39508391, -1.08232123, -0.12611721,  0.36101373,\n",
              "        0.0665344 , -1.1413876 , -0.17506638,  0.77282866, -1.83707165,\n",
              "       -0.77494689,  0.01408298, -1.53230378,  0.35124976, -1.52143749,\n",
              "       -0.13815833,  1.5156158 , -0.1217413 ,  2.07082226,  0.18536048,\n",
              "        0.11179906, -0.23918286,  0.93718657,  0.87061911, -0.47888117,\n",
              "       -0.83067008,  0.53274652, -2.01115766,  1.02759853, -0.38905334,\n",
              "       -0.60686204, -0.1810318 ,  1.680987  ,  0.92433915, -0.42703155,\n",
              "        0.07089543, -0.0619361 , -0.5409349 , -0.04356977,  1.24185172,\n",
              "       -0.36246973,  2.19952939, -0.02112585,  0.97597194, -1.37107632,\n",
              "       -0.87035007, -0.65467027,  0.49110182, -0.14820157, -0.26876021])"
            ]
          },
          "metadata": {
            "tags": []
          },
          "execution_count": 51
        }
      ]
    },
    {
      "cell_type": "code",
      "metadata": {
        "id": "mJmsZV62uj3n"
      },
      "source": [
        "Y = np.random.normal(0, 2, 10000)"
      ],
      "execution_count": 52,
      "outputs": []
    },
    {
      "cell_type": "code",
      "metadata": {
        "colab": {
          "base_uri": "https://localhost:8080/"
        },
        "id": "-TqZp15huxfj",
        "outputId": "01eac806-466e-4920-d36d-8f913c9d29c8"
      },
      "source": [
        "Y"
      ],
      "execution_count": 53,
      "outputs": [
        {
          "output_type": "execute_result",
          "data": {
            "text/plain": [
              "array([ 3.50752046, -1.88625698,  1.63939505, ...,  0.03641283,\n",
              "        1.36174413,  0.09082504])"
            ]
          },
          "metadata": {
            "tags": []
          },
          "execution_count": 53
        }
      ]
    },
    {
      "cell_type": "markdown",
      "metadata": {
        "id": "qQRdrIjomBqa"
      },
      "source": [
        "##Plotting\n",
        "\n",
        "We can use the plotting library we imported as follows."
      ]
    },
    {
      "cell_type": "code",
      "metadata": {
        "colab": {
          "base_uri": "https://localhost:8080/",
          "height": 282
        },
        "id": "7OBJRUnCmBqa",
        "outputId": "51d39489-7a10-462b-e0ff-622f6c794571"
      },
      "source": [
        "plt.plot(X)"
      ],
      "execution_count": 54,
      "outputs": [
        {
          "output_type": "execute_result",
          "data": {
            "text/plain": [
              "[<matplotlib.lines.Line2D at 0x7ff6a8c67d50>]"
            ]
          },
          "metadata": {
            "tags": []
          },
          "execution_count": 54
        },
        {
          "output_type": "display_data",
          "data": {
            "image/png": "[encoded data removed]",
            "text/plain": [
              "<Figure size 432x288 with 1 Axes>"
            ]
          },
          "metadata": {
            "tags": [],
            "needs_background": "light"
          }
        }
      ]
    },
    {
      "cell_type": "code",
      "metadata": {
        "colab": {
          "base_uri": "https://localhost:8080/",
          "height": 282
        },
        "id": "GAqHJlB-ymkb",
        "outputId": "6de8d394-d7cc-44ec-e84e-adb1304e8618"
      },
      "source": [
        "plt.plot (Y)"
      ],
      "execution_count": 55,
      "outputs": [
        {
          "output_type": "execute_result",
          "data": {
            "text/plain": [
              "[<matplotlib.lines.Line2D at 0x7ff6a792de10>]"
            ]
          },
          "metadata": {
            "tags": []
          },
          "execution_count": 55
        },
        {
          "output_type": "display_data",
          "data": {
            "image/png": "[encoded data removed]",
            "text/plain": [
              "<Figure size 432x288 with 1 Axes>"
            ]
          },
          "metadata": {
            "tags": [],
            "needs_background": "light"
          }
        }
      ]
    },
    {
      "cell_type": "markdown",
      "metadata": {
        "id": "pmYOEAx8mBqa"
      },
      "source": [
        "###Squelching Line Output\n",
        "\n",
        "You might have noticed the annoying line of the form `[<matplotlib.lines.Line2D at 0x7f72fdbc1710>]` before the plots. This is because the `.plot` function actually produces output. Sometimes we wish not to display output, we can accomplish this with the semi-colon as follows."
      ]
    },
    {
      "cell_type": "code",
      "metadata": {
        "colab": {
          "base_uri": "https://localhost:8080/",
          "height": 265
        },
        "id": "h42ZwZMEmBqb",
        "outputId": "bc315fd5-9404-4c4e-b07b-a797beaca8b0"
      },
      "source": [
        "plt.plot(X);"
      ],
      "execution_count": 56,
      "outputs": [
        {
          "output_type": "display_data",
          "data": {
            "image/png": "[encoded data removed]",
            "text/plain": [
              "<Figure size 432x288 with 1 Axes>"
            ]
          },
          "metadata": {
            "tags": [],
            "needs_background": "light"
          }
        }
      ]
    },
    {
      "cell_type": "code",
      "metadata": {
        "colab": {
          "base_uri": "https://localhost:8080/",
          "height": 265
        },
        "id": "egUCcdHszKPS",
        "outputId": "e2c58e1e-7a22-4340-b5b5-62ec0b86432d"
      },
      "source": [
        "plt.plot(Y);"
      ],
      "execution_count": 57,
      "outputs": [
        {
          "output_type": "display_data",
          "data": {
            "image/png": "[encoded data removed]",
            "text/plain": [
              "<Figure size 432x288 with 1 Axes>"
            ]
          },
          "metadata": {
            "tags": [],
            "needs_background": "light"
          }
        }
      ]
    },
    {
      "cell_type": "markdown",
      "metadata": {
        "id": "uc0bOH81mBqb"
      },
      "source": [
        "###Adding Axis Labels\n",
        "\n",
        "No self-respecting quant leaves a graph without labeled axes. Here are some commands to help with that."
      ]
    },
    {
      "cell_type": "code",
      "metadata": {
        "colab": {
          "base_uri": "https://localhost:8080/",
          "height": 279
        },
        "id": "rrGVc0yTmBqb",
        "outputId": "58e9b505-5ae7-4dd0-d3cf-2bb07b9ae219"
      },
      "source": [
        "X = np.random.normal(0, 1, 100)\n",
        "X2 = np.random.normal(0, 1, 100)\n",
        "\n",
        "plt.plot(X);\n",
        "plt.plot(X2);\n",
        "plt.xlabel('Time') # The data we generated is unitless, but don't forget units in general.\n",
        "plt.ylabel('Returns')\n",
        "plt.legend(['X', 'X2']);"
      ],
      "execution_count": 58,
      "outputs": [
        {
          "output_type": "display_data",
          "data": {
            "image/png": "[encoded data removed]",
            "text/plain": [
              "<Figure size 432x288 with 1 Axes>"
            ]
          },
          "metadata": {
            "tags": [],
            "needs_background": "light"
          }
        }
      ]
    },
    {
      "cell_type": "code",
      "metadata": {
        "colab": {
          "base_uri": "https://localhost:8080/",
          "height": 279
        },
        "id": "IEDKjdeL2z62",
        "outputId": "7a7b4e33-e8fd-47f4-8415-fb5910bf7588"
      },
      "source": [
        "s = np.random.normal(0, 1, 2000)\r\n",
        "r = np.random.normal(0, 1, 2000)\r\n",
        "\r\n",
        "plt.plot(s);\r\n",
        "plt.plot(r);\r\n",
        "plt.xlabel('Time') # The data we generated is unitless, but don't forget units in general.\r\n",
        "plt.ylabel('Returns')\r\n",
        "plt.legend(['s', 'r']);"
      ],
      "execution_count": 59,
      "outputs": [
        {
          "output_type": "display_data",
          "data": {
            "image/png": "[encoded data removed]",
            "text/plain": [
              "<Figure size 432x288 with 1 Axes>"
            ]
          },
          "metadata": {
            "tags": [],
            "needs_background": "light"
          }
        }
      ]
    },
    {
      "cell_type": "markdown",
      "metadata": {
        "id": "3gIRMk8smBqb"
      },
      "source": [
        "##Generating Statistics\n",
        "\n",
        "Let's use `numpy` to take some simple statistics."
      ]
    },
    {
      "cell_type": "code",
      "metadata": {
        "colab": {
          "base_uri": "https://localhost:8080/"
        },
        "id": "hiv6rgFymBqc",
        "outputId": "04b10a8c-4ed9-4d74-d375-8fe02abbbbfd"
      },
      "source": [
        "np.mean(X)"
      ],
      "execution_count": 60,
      "outputs": [
        {
          "output_type": "execute_result",
          "data": {
            "text/plain": [
              "-0.06948236419864759"
            ]
          },
          "metadata": {
            "tags": []
          },
          "execution_count": 60
        }
      ]
    },
    {
      "cell_type": "code",
      "metadata": {
        "colab": {
          "base_uri": "https://localhost:8080/"
        },
        "id": "vziZf52ZmBqc",
        "outputId": "790fc5da-bf68-434d-c875-7610fb9d76d2"
      },
      "source": [
        "np.std(X)"
      ],
      "execution_count": 61,
      "outputs": [
        {
          "output_type": "execute_result",
          "data": {
            "text/plain": [
              "1.0019682989357772"
            ]
          },
          "metadata": {
            "tags": []
          },
          "execution_count": 61
        }
      ]
    },
    {
      "cell_type": "code",
      "metadata": {
        "colab": {
          "base_uri": "https://localhost:8080/"
        },
        "id": "Yf5e_uPc4RPP",
        "outputId": "a7e9d5cc-8ad7-4860-a199-f2810704b69a"
      },
      "source": [
        "np.mean(s)"
      ],
      "execution_count": 62,
      "outputs": [
        {
          "output_type": "execute_result",
          "data": {
            "text/plain": [
              "0.0722344690514171"
            ]
          },
          "metadata": {
            "tags": []
          },
          "execution_count": 62
        }
      ]
    },
    {
      "cell_type": "code",
      "metadata": {
        "colab": {
          "base_uri": "https://localhost:8080/"
        },
        "id": "Qqz1yjfN4Vf2",
        "outputId": "614c2b13-0a4e-4a72-9273-c51a3cdb6ad9"
      },
      "source": [
        "np.std(r)"
      ],
      "execution_count": 63,
      "outputs": [
        {
          "output_type": "execute_result",
          "data": {
            "text/plain": [
              "0.9617092756994804"
            ]
          },
          "metadata": {
            "tags": []
          },
          "execution_count": 63
        }
      ]
    },
    {
      "cell_type": "markdown",
      "metadata": {
        "id": "OENrkC52mBqc"
      },
      "source": [
        "##Replacing getpricing()\n",
        "\n",
        "> Bloc con sangría\n",
        "\n",
        "\n",
        "\n",
        "The function getprcing() is not a Python standard function, this function was part of Quantopìan API for Ipython notebooks ( Quantopìan ResearchI, so it will not be recognized in Google Colab or Jupyter, there are multiple alternatives upload finacial data from Yahoo Finance"
      ]
    },
    {
      "cell_type": "code",
      "metadata": {
        "colab": {
          "base_uri": "https://localhost:8080/",
          "height": 450
        },
        "id": "aCaGAdrLmBqd",
        "outputId": "9e19a352-ca5c-4ff6-a20b-f62babc402a4"
      },
      "source": [
        "import pandas_datareader as pdr\r\n",
        "import datetime \r\n",
        "data = pdr.get_data_yahoo('MSFT', start= datetime.datetime(2018,1,1), end= datetime.datetime(2019,1,1))\r\n",
        "data"
      ],
      "execution_count": 64,
      "outputs": [
        {
          "output_type": "execute_result",
          "data": {
            "text/html": [
              "<div>\n",
              "<style scoped>\n",
              "    .dataframe tbody tr th:only-of-type {\n",
              "        vertical-align: middle;\n",
              "    }\n",
              "\n",
              "    .dataframe tbody tr th {\n",
              "        vertical-align: top;\n",
              "    }\n",
              "\n",
              "    .dataframe thead th {\n",
              "        text-align: right;\n",
              "    }\n",
              "</style>\n",
              "<table border=\"1\" class=\"dataframe\">\n",
              "  <thead>\n",
              "    <tr style=\"text-align: right;\">\n",
              "      <th></th>\n",
              "      <th>High</th>\n",
              "      <th>Low</th>\n",
              "      <th>Open</th>\n",
              "      <th>Close</th>\n",
              "      <th>Volume</th>\n",
              "      <th>Adj Close</th>\n",
              "    </tr>\n",
              "    <tr>\n",
              "      <th>Date</th>\n",
              "      <th></th>\n",
              "      <th></th>\n",
              "      <th></th>\n",
              "      <th></th>\n",
              "      <th></th>\n",
              "      <th></th>\n",
              "    </tr>\n",
              "  </thead>\n",
              "  <tbody>\n",
              "    <tr>\n",
              "      <th>2018-01-02</th>\n",
              "      <td>86.309998</td>\n",
              "      <td>85.500000</td>\n",
              "      <td>86.129997</td>\n",
              "      <td>85.949997</td>\n",
              "      <td>22483800.0</td>\n",
              "      <td>82.194328</td>\n",
              "    </tr>\n",
              "    <tr>\n",
              "      <th>2018-01-03</th>\n",
              "      <td>86.510002</td>\n",
              "      <td>85.970001</td>\n",
              "      <td>86.059998</td>\n",
              "      <td>86.349998</td>\n",
              "      <td>26061400.0</td>\n",
              "      <td>82.576843</td>\n",
              "    </tr>\n",
              "    <tr>\n",
              "      <th>2018-01-04</th>\n",
              "      <td>87.660004</td>\n",
              "      <td>86.570000</td>\n",
              "      <td>86.589996</td>\n",
              "      <td>87.110001</td>\n",
              "      <td>21912000.0</td>\n",
              "      <td>83.303658</td>\n",
              "    </tr>\n",
              "    <tr>\n",
              "      <th>2018-01-05</th>\n",
              "      <td>88.410004</td>\n",
              "      <td>87.430000</td>\n",
              "      <td>87.660004</td>\n",
              "      <td>88.190002</td>\n",
              "      <td>23407100.0</td>\n",
              "      <td>84.336464</td>\n",
              "    </tr>\n",
              "    <tr>\n",
              "      <th>2018-01-08</th>\n",
              "      <td>88.580002</td>\n",
              "      <td>87.599998</td>\n",
              "      <td>88.199997</td>\n",
              "      <td>88.279999</td>\n",
              "      <td>22113000.0</td>\n",
              "      <td>84.422516</td>\n",
              "    </tr>\n",
              "    <tr>\n",
              "      <th>...</th>\n",
              "      <td>...</td>\n",
              "      <td>...</td>\n",
              "      <td>...</td>\n",
              "      <td>...</td>\n",
              "      <td>...</td>\n",
              "      <td>...</td>\n",
              "    </tr>\n",
              "    <tr>\n",
              "      <th>2018-12-24</th>\n",
              "      <td>97.970001</td>\n",
              "      <td>93.980003</td>\n",
              "      <td>97.680000</td>\n",
              "      <td>94.129997</td>\n",
              "      <td>43935200.0</td>\n",
              "      <td>91.575211</td>\n",
              "    </tr>\n",
              "    <tr>\n",
              "      <th>2018-12-26</th>\n",
              "      <td>100.690002</td>\n",
              "      <td>93.959999</td>\n",
              "      <td>95.139999</td>\n",
              "      <td>100.559998</td>\n",
              "      <td>51634800.0</td>\n",
              "      <td>97.830696</td>\n",
              "    </tr>\n",
              "    <tr>\n",
              "      <th>2018-12-27</th>\n",
              "      <td>101.190002</td>\n",
              "      <td>96.400002</td>\n",
              "      <td>99.300003</td>\n",
              "      <td>101.180000</td>\n",
              "      <td>49498500.0</td>\n",
              "      <td>98.433876</td>\n",
              "    </tr>\n",
              "    <tr>\n",
              "      <th>2018-12-28</th>\n",
              "      <td>102.410004</td>\n",
              "      <td>99.519997</td>\n",
              "      <td>102.089996</td>\n",
              "      <td>100.389999</td>\n",
              "      <td>38196300.0</td>\n",
              "      <td>97.665306</td>\n",
              "    </tr>\n",
              "    <tr>\n",
              "      <th>2018-12-31</th>\n",
              "      <td>102.400002</td>\n",
              "      <td>100.440002</td>\n",
              "      <td>101.290001</td>\n",
              "      <td>101.570000</td>\n",
              "      <td>33173800.0</td>\n",
              "      <td>98.813278</td>\n",
              "    </tr>\n",
              "  </tbody>\n",
              "</table>\n",
              "<p>251 rows × 6 columns</p>\n",
              "</div>"
            ],
            "text/plain": [
              "                  High         Low  ...      Volume  Adj Close\n",
              "Date                                ...                       \n",
              "2018-01-02   86.309998   85.500000  ...  22483800.0  82.194328\n",
              "2018-01-03   86.510002   85.970001  ...  26061400.0  82.576843\n",
              "2018-01-04   87.660004   86.570000  ...  21912000.0  83.303658\n",
              "2018-01-05   88.410004   87.430000  ...  23407100.0  84.336464\n",
              "2018-01-08   88.580002   87.599998  ...  22113000.0  84.422516\n",
              "...                ...         ...  ...         ...        ...\n",
              "2018-12-24   97.970001   93.980003  ...  43935200.0  91.575211\n",
              "2018-12-26  100.690002   93.959999  ...  51634800.0  97.830696\n",
              "2018-12-27  101.190002   96.400002  ...  49498500.0  98.433876\n",
              "2018-12-28  102.410004   99.519997  ...  38196300.0  97.665306\n",
              "2018-12-31  102.400002  100.440002  ...  33173800.0  98.813278\n",
              "\n",
              "[251 rows x 6 columns]"
            ]
          },
          "metadata": {
            "tags": []
          },
          "execution_count": 64
        }
      ]
    },
    {
      "cell_type": "markdown",
      "metadata": {
        "id": "bkQGYAl8mBqd"
      },
      "source": [
        "Our data is now a dataframe. You can see the datetime index and the colums with different pricing data."
      ]
    },
    {
      "cell_type": "code",
      "metadata": {
        "colab": {
          "base_uri": "https://localhost:8080/",
          "height": 450
        },
        "id": "OVbHqA7mmBqg",
        "outputId": "60e3c2fa-0d79-4a96-879f-1c553f8fd3fb"
      },
      "source": [
        "data"
      ],
      "execution_count": 65,
      "outputs": [
        {
          "output_type": "execute_result",
          "data": {
            "text/html": [
              "<div>\n",
              "<style scoped>\n",
              "    .dataframe tbody tr th:only-of-type {\n",
              "        vertical-align: middle;\n",
              "    }\n",
              "\n",
              "    .dataframe tbody tr th {\n",
              "        vertical-align: top;\n",
              "    }\n",
              "\n",
              "    .dataframe thead th {\n",
              "        text-align: right;\n",
              "    }\n",
              "</style>\n",
              "<table border=\"1\" class=\"dataframe\">\n",
              "  <thead>\n",
              "    <tr style=\"text-align: right;\">\n",
              "      <th></th>\n",
              "      <th>High</th>\n",
              "      <th>Low</th>\n",
              "      <th>Open</th>\n",
              "      <th>Close</th>\n",
              "      <th>Volume</th>\n",
              "      <th>Adj Close</th>\n",
              "    </tr>\n",
              "    <tr>\n",
              "      <th>Date</th>\n",
              "      <th></th>\n",
              "      <th></th>\n",
              "      <th></th>\n",
              "      <th></th>\n",
              "      <th></th>\n",
              "      <th></th>\n",
              "    </tr>\n",
              "  </thead>\n",
              "  <tbody>\n",
              "    <tr>\n",
              "      <th>2018-01-02</th>\n",
              "      <td>86.309998</td>\n",
              "      <td>85.500000</td>\n",
              "      <td>86.129997</td>\n",
              "      <td>85.949997</td>\n",
              "      <td>22483800.0</td>\n",
              "      <td>82.194328</td>\n",
              "    </tr>\n",
              "    <tr>\n",
              "      <th>2018-01-03</th>\n",
              "      <td>86.510002</td>\n",
              "      <td>85.970001</td>\n",
              "      <td>86.059998</td>\n",
              "      <td>86.349998</td>\n",
              "      <td>26061400.0</td>\n",
              "      <td>82.576843</td>\n",
              "    </tr>\n",
              "    <tr>\n",
              "      <th>2018-01-04</th>\n",
              "      <td>87.660004</td>\n",
              "      <td>86.570000</td>\n",
              "      <td>86.589996</td>\n",
              "      <td>87.110001</td>\n",
              "      <td>21912000.0</td>\n",
              "      <td>83.303658</td>\n",
              "    </tr>\n",
              "    <tr>\n",
              "      <th>2018-01-05</th>\n",
              "      <td>88.410004</td>\n",
              "      <td>87.430000</td>\n",
              "      <td>87.660004</td>\n",
              "      <td>88.190002</td>\n",
              "      <td>23407100.0</td>\n",
              "      <td>84.336464</td>\n",
              "    </tr>\n",
              "    <tr>\n",
              "      <th>2018-01-08</th>\n",
              "      <td>88.580002</td>\n",
              "      <td>87.599998</td>\n",
              "      <td>88.199997</td>\n",
              "      <td>88.279999</td>\n",
              "      <td>22113000.0</td>\n",
              "      <td>84.422516</td>\n",
              "    </tr>\n",
              "    <tr>\n",
              "      <th>...</th>\n",
              "      <td>...</td>\n",
              "      <td>...</td>\n",
              "      <td>...</td>\n",
              "      <td>...</td>\n",
              "      <td>...</td>\n",
              "      <td>...</td>\n",
              "    </tr>\n",
              "    <tr>\n",
              "      <th>2018-12-24</th>\n",
              "      <td>97.970001</td>\n",
              "      <td>93.980003</td>\n",
              "      <td>97.680000</td>\n",
              "      <td>94.129997</td>\n",
              "      <td>43935200.0</td>\n",
              "      <td>91.575211</td>\n",
              "    </tr>\n",
              "    <tr>\n",
              "      <th>2018-12-26</th>\n",
              "      <td>100.690002</td>\n",
              "      <td>93.959999</td>\n",
              "      <td>95.139999</td>\n",
              "      <td>100.559998</td>\n",
              "      <td>51634800.0</td>\n",
              "      <td>97.830696</td>\n",
              "    </tr>\n",
              "    <tr>\n",
              "      <th>2018-12-27</th>\n",
              "      <td>101.190002</td>\n",
              "      <td>96.400002</td>\n",
              "      <td>99.300003</td>\n",
              "      <td>101.180000</td>\n",
              "      <td>49498500.0</td>\n",
              "      <td>98.433876</td>\n",
              "    </tr>\n",
              "    <tr>\n",
              "      <th>2018-12-28</th>\n",
              "      <td>102.410004</td>\n",
              "      <td>99.519997</td>\n",
              "      <td>102.089996</td>\n",
              "      <td>100.389999</td>\n",
              "      <td>38196300.0</td>\n",
              "      <td>97.665306</td>\n",
              "    </tr>\n",
              "    <tr>\n",
              "      <th>2018-12-31</th>\n",
              "      <td>102.400002</td>\n",
              "      <td>100.440002</td>\n",
              "      <td>101.290001</td>\n",
              "      <td>101.570000</td>\n",
              "      <td>33173800.0</td>\n",
              "      <td>98.813278</td>\n",
              "    </tr>\n",
              "  </tbody>\n",
              "</table>\n",
              "<p>251 rows × 6 columns</p>\n",
              "</div>"
            ],
            "text/plain": [
              "                  High         Low  ...      Volume  Adj Close\n",
              "Date                                ...                       \n",
              "2018-01-02   86.309998   85.500000  ...  22483800.0  82.194328\n",
              "2018-01-03   86.510002   85.970001  ...  26061400.0  82.576843\n",
              "2018-01-04   87.660004   86.570000  ...  21912000.0  83.303658\n",
              "2018-01-05   88.410004   87.430000  ...  23407100.0  84.336464\n",
              "2018-01-08   88.580002   87.599998  ...  22113000.0  84.422516\n",
              "...                ...         ...  ...         ...        ...\n",
              "2018-12-24   97.970001   93.980003  ...  43935200.0  91.575211\n",
              "2018-12-26  100.690002   93.959999  ...  51634800.0  97.830696\n",
              "2018-12-27  101.190002   96.400002  ...  49498500.0  98.433876\n",
              "2018-12-28  102.410004   99.519997  ...  38196300.0  97.665306\n",
              "2018-12-31  102.400002  100.440002  ...  33173800.0  98.813278\n",
              "\n",
              "[251 rows x 6 columns]"
            ]
          },
          "metadata": {
            "tags": []
          },
          "execution_count": 65
        }
      ]
    },
    {
      "cell_type": "markdown",
      "metadata": {
        "id": "PZioEpaqmBqg"
      },
      "source": [
        "This is a pandas dataframe, so we can index in to just get price like this. For more info on pandas, please [click here](http://pandas.pydata.org/pandas-docs/stable/10min.html)."
      ]
    },
    {
      "cell_type": "code",
      "metadata": {
        "id": "Elv3-HSVmBqh"
      },
      "source": [
        "X = data['High']"
      ],
      "execution_count": 66,
      "outputs": []
    },
    {
      "cell_type": "code",
      "metadata": {
        "colab": {
          "base_uri": "https://localhost:8080/"
        },
        "id": "pNQs3DCXONcd",
        "outputId": "22a840ab-c1c9-4b38-f36b-da851e7bde88"
      },
      "source": [
        "X"
      ],
      "execution_count": 76,
      "outputs": [
        {
          "output_type": "execute_result",
          "data": {
            "text/plain": [
              "Date\n",
              "2018-01-02     86.309998\n",
              "2018-01-03     86.510002\n",
              "2018-01-04     87.660004\n",
              "2018-01-05     88.410004\n",
              "2018-01-08     88.580002\n",
              "                 ...    \n",
              "2018-12-24     97.970001\n",
              "2018-12-26    100.690002\n",
              "2018-12-27    101.190002\n",
              "2018-12-28    102.410004\n",
              "2018-12-31    102.400002\n",
              "Name: High, Length: 251, dtype: float64"
            ]
          },
          "metadata": {
            "tags": []
          },
          "execution_count": 76
        }
      ]
    },
    {
      "cell_type": "code",
      "metadata": {
        "id": "TcQmgfSua-vu"
      },
      "source": [
        "V = data['Low']"
      ],
      "execution_count": 78,
      "outputs": []
    },
    {
      "cell_type": "code",
      "metadata": {
        "colab": {
          "base_uri": "https://localhost:8080/"
        },
        "id": "d0jXE4y_bF5v",
        "outputId": "c692d50a-c804-4d4a-b315-74a64d11d10e"
      },
      "source": [
        "V"
      ],
      "execution_count": 79,
      "outputs": [
        {
          "output_type": "execute_result",
          "data": {
            "text/plain": [
              "Date\n",
              "2018-01-02     85.500000\n",
              "2018-01-03     85.970001\n",
              "2018-01-04     86.570000\n",
              "2018-01-05     87.430000\n",
              "2018-01-08     87.599998\n",
              "                 ...    \n",
              "2018-12-24     93.980003\n",
              "2018-12-26     93.959999\n",
              "2018-12-27     96.400002\n",
              "2018-12-28     99.519997\n",
              "2018-12-31    100.440002\n",
              "Name: Low, Length: 251, dtype: float64"
            ]
          },
          "metadata": {
            "tags": []
          },
          "execution_count": 79
        }
      ]
    },
    {
      "cell_type": "markdown",
      "metadata": {
        "id": "UGlzFc6mmBqh"
      },
      "source": [
        "Because there is now also date information in our data, we provide two series to `.plot`. `X.index` gives us the datetime index, and `X.values` gives us the pricing values. These are used as the X and Y coordinates to make a graph."
      ]
    },
    {
      "cell_type": "code",
      "metadata": {
        "colab": {
          "base_uri": "https://localhost:8080/",
          "height": 265
        },
        "id": "QO-3jBjjmBqh",
        "outputId": "c7b667d2-bfa3-412a-9b0a-244279c71847"
      },
      "source": [
        "plt.plot(X.index, X.values)\n",
        "plt.ylabel('Price')\n",
        "plt.legend(['MSFT']);"
      ],
      "execution_count": 67,
      "outputs": [
        {
          "output_type": "display_data",
          "data": {
            "image/png": "[encoded data removed]",
            "text/plain": [
              "<Figure size 432x288 with 1 Axes>"
            ]
          },
          "metadata": {
            "tags": [],
            "needs_background": "light"
          }
        }
      ]
    },
    {
      "cell_type": "code",
      "metadata": {
        "colab": {
          "base_uri": "https://localhost:8080/",
          "height": 265
        },
        "id": "KEFSEtpsPtSc",
        "outputId": "7ced6ada-91c7-4ce6-c360-56b108ac2b76"
      },
      "source": [
        "plt.plot(V.index, V.values)\r\n",
        "plt.ylabel('Low')\r\n",
        "plt.legend(['MSFT']);"
      ],
      "execution_count": 80,
      "outputs": [
        {
          "output_type": "display_data",
          "data": {
            "image/png": "[encoded data removed]",
            "text/plain": [
              "<Figure size 432x288 with 1 Axes>"
            ]
          },
          "metadata": {
            "tags": [],
            "needs_background": "light"
          }
        }
      ]
    },
    {
      "cell_type": "markdown",
      "metadata": {
        "id": "-0OMn6iImBqi"
      },
      "source": [
        "We can get statistics again on real data."
      ]
    },
    {
      "cell_type": "code",
      "metadata": {
        "colab": {
          "base_uri": "https://localhost:8080/"
        },
        "id": "Kbki_mkEmBqi",
        "outputId": "f5213096-0318-4358-f378-f1cdc092f01b"
      },
      "source": [
        "np.mean(X)"
      ],
      "execution_count": 68,
      "outputs": [
        {
          "output_type": "execute_result",
          "data": {
            "text/plain": [
              "102.11406370368137"
            ]
          },
          "metadata": {
            "tags": []
          },
          "execution_count": 68
        }
      ]
    },
    {
      "cell_type": "code",
      "metadata": {
        "colab": {
          "base_uri": "https://localhost:8080/"
        },
        "id": "2C7ZFwzzbRM3",
        "outputId": "5d28e482-bcf7-41a6-9886-f348479ed670"
      },
      "source": [
        "np.mean(V)"
      ],
      "execution_count": 81,
      "outputs": [
        {
          "output_type": "execute_result",
          "data": {
            "text/plain": [
              "99.91928313357897"
            ]
          },
          "metadata": {
            "tags": []
          },
          "execution_count": 81
        }
      ]
    },
    {
      "cell_type": "code",
      "metadata": {
        "colab": {
          "base_uri": "https://localhost:8080/"
        },
        "id": "deVX-SCvmBqj",
        "outputId": "d70f561a-8cba-4bd6-e3a0-6ff1108ef0cb"
      },
      "source": [
        "np.std(X)"
      ],
      "execution_count": 69,
      "outputs": [
        {
          "output_type": "execute_result",
          "data": {
            "text/plain": [
              "7.889753837946643"
            ]
          },
          "metadata": {
            "tags": []
          },
          "execution_count": 69
        }
      ]
    },
    {
      "cell_type": "code",
      "metadata": {
        "colab": {
          "base_uri": "https://localhost:8080/"
        },
        "id": "otD-HkzTbTwv",
        "outputId": "aa142216-9be5-4d20-f2b1-593d32a130ce"
      },
      "source": [
        "np.std(V)"
      ],
      "execution_count": 82,
      "outputs": [
        {
          "output_type": "execute_result",
          "data": {
            "text/plain": [
              "7.885317516819745"
            ]
          },
          "metadata": {
            "tags": []
          },
          "execution_count": 82
        }
      ]
    },
    {
      "cell_type": "markdown",
      "metadata": {
        "id": "Xp7LaF_WmBqj"
      },
      "source": [
        "##Getting Returns from Prices\n",
        "\n",
        "We can use the `pct_change` function to get returns. Notice how we drop the first element after doing this, as it will be `NaN` (nothing -> something results in a NaN percent change)."
      ]
    },
    {
      "cell_type": "code",
      "metadata": {
        "id": "ItyiLgn6mBqk"
      },
      "source": [
        "R = X.pct_change()[1:] ##Second element"
      ],
      "execution_count": 84,
      "outputs": []
    },
    {
      "cell_type": "markdown",
      "metadata": {
        "id": "i7muzRP0mBqk"
      },
      "source": [
        "We can plot the returns distribution as a histogram."
      ]
    },
    {
      "cell_type": "code",
      "metadata": {
        "colab": {
          "base_uri": "https://localhost:8080/",
          "height": 279
        },
        "id": "5b5v_pgZmBql",
        "outputId": "c81742bc-92f9-44f7-f2f9-d84a311754f8"
      },
      "source": [
        "plt.hist(R, bins=20)\n",
        "plt.xlabel('Return')\n",
        "plt.ylabel('Frequency')\n",
        "plt.legend(['MSFT Returns']);"
      ],
      "execution_count": 85,
      "outputs": [
        {
          "output_type": "display_data",
          "data": {
            "image/png": "[encoded data removed]",
            "text/plain": [
              "<Figure size 432x288 with 1 Axes>"
            ]
          },
          "metadata": {
            "tags": [],
            "needs_background": "light"
          }
        }
      ]
    },
    {
      "cell_type": "markdown",
      "metadata": {
        "id": "mZ1MewTlmBql"
      },
      "source": [
        "Get statistics again."
      ]
    },
    {
      "cell_type": "code",
      "metadata": {
        "colab": {
          "base_uri": "https://localhost:8080/"
        },
        "id": "7fyOGiZ6mBqm",
        "outputId": "7b910fd4-6496-4462-dcc0-d7e6e23d912e"
      },
      "source": [
        "np.mean(R)"
      ],
      "execution_count": 72,
      "outputs": [
        {
          "output_type": "execute_result",
          "data": {
            "text/plain": [
              "0.0007711474019386575"
            ]
          },
          "metadata": {
            "tags": []
          },
          "execution_count": 72
        }
      ]
    },
    {
      "cell_type": "code",
      "metadata": {
        "colab": {
          "base_uri": "https://localhost:8080/"
        },
        "id": "jeH2zFmNmBqm",
        "outputId": "45b5d5a4-15f2-491f-f11a-934c9a0d63a3"
      },
      "source": [
        "np.std(R)"
      ],
      "execution_count": 73,
      "outputs": [
        {
          "output_type": "execute_result",
          "data": {
            "text/plain": [
              "0.013179028414868637"
            ]
          },
          "metadata": {
            "tags": []
          },
          "execution_count": 73
        }
      ]
    },
    {
      "cell_type": "code",
      "metadata": {
        "id": "pnJI11NqbamD"
      },
      "source": [
        "S= V.pct_change()[10:]"
      ],
      "execution_count": 87,
      "outputs": []
    },
    {
      "cell_type": "code",
      "metadata": {
        "colab": {
          "base_uri": "https://localhost:8080/",
          "height": 279
        },
        "id": "FNX3YcjHckKo",
        "outputId": "0e5436e3-408a-45ab-e34e-5c3f3d17097f"
      },
      "source": [
        "plt.hist(S, bins=20)\r\n",
        "plt.xlabel('Data 1')\r\n",
        "plt.ylabel('Data 2')\r\n",
        "plt.legend(['MSFT Returns']);"
      ],
      "execution_count": 88,
      "outputs": [
        {
          "output_type": "display_data",
          "data": {
            "image/png": "[encoded data removed]",
            "text/plain": [
              "<Figure size 432x288 with 1 Axes>"
            ]
          },
          "metadata": {
            "tags": [],
            "needs_background": "light"
          }
        }
      ]
    },
    {
      "cell_type": "code",
      "metadata": {
        "colab": {
          "base_uri": "https://localhost:8080/"
        },
        "id": "o-QJZEHLc5g3",
        "outputId": "e585f749-87a8-4485-afd7-03f0e6001ee5"
      },
      "source": [
        "np.mean(S)"
      ],
      "execution_count": 89,
      "outputs": [
        {
          "output_type": "execute_result",
          "data": {
            "text/plain": [
              "0.000683572681386488"
            ]
          },
          "metadata": {
            "tags": []
          },
          "execution_count": 89
        }
      ]
    },
    {
      "cell_type": "code",
      "metadata": {
        "colab": {
          "base_uri": "https://localhost:8080/"
        },
        "id": "Nw5J6Rkic9MY",
        "outputId": "f8b55880-f033-4112-c8e8-b3b0ed3c7d1a"
      },
      "source": [
        "np.std(S)"
      ],
      "execution_count": 90,
      "outputs": [
        {
          "output_type": "execute_result",
          "data": {
            "text/plain": [
              "0.01644348736447692"
            ]
          },
          "metadata": {
            "tags": []
          },
          "execution_count": 90
        }
      ]
    },
    {
      "cell_type": "markdown",
      "metadata": {
        "id": "wnszh0irmBqm"
      },
      "source": [
        "Now let's go backwards and generate data out of a normal distribution using the statistics we estimated from Microsoft's returns. We'll see that we have good reason to suspect Microsoft's returns may not be normal, as the resulting normal distribution looks far different."
      ]
    },
    {
      "cell_type": "code",
      "metadata": {
        "colab": {
          "base_uri": "https://localhost:8080/",
          "height": 279
        },
        "id": "FCWI8qunmBqm",
        "outputId": "840a0f17-1983-43cf-b378-e4d19f6b5d12"
      },
      "source": [
        "plt.hist(np.random.normal(np.mean(R), np.std(R), 10000), bins=20)\n",
        "plt.xlabel('Return')\n",
        "plt.ylabel('Frequency')\n",
        "plt.legend(['Normally Distributed Returns']);"
      ],
      "execution_count": 74,
      "outputs": [
        {
          "output_type": "display_data",
          "data": {
            "image/png": "[encoded data removed]",
            "text/plain": [
              "<Figure size 432x288 with 1 Axes>"
            ]
          },
          "metadata": {
            "tags": [],
            "needs_background": "light"
          }
        }
      ]
    },
    {
      "cell_type": "code",
      "metadata": {
        "colab": {
          "base_uri": "https://localhost:8080/",
          "height": 279
        },
        "id": "EgdT4y7udbE8",
        "outputId": "bdeeff66-eae4-44fe-e468-49cb41f655ea"
      },
      "source": [
        "plt.hist(np.random.normal(np.mean(S), np.std(S), 10000), bins=20)\r\n",
        "plt.xlabel('Return')\r\n",
        "plt.ylabel('Frequency')\r\n",
        "plt.legend(['Normally Distributed Returns']);"
      ],
      "execution_count": 91,
      "outputs": [
        {
          "output_type": "display_data",
          "data": {
            "image/png": "[encoded data removed]",
            "text/plain": [
              "<Figure size 432x288 with 1 Axes>"
            ]
          },
          "metadata": {
            "tags": [],
            "needs_background": "light"
          }
        }
      ]
    },
    {
      "cell_type": "markdown",
      "metadata": {
        "id": "sBHriV6XmBqn"
      },
      "source": [
        "##Generating a Moving Average\n",
        "\n",
        "`pandas` has some nice tools to allow us to generate rolling statistics. Here's an example. Notice how there's no moving average for the first 60 days, as we don't have 60 days of data on which to generate the statistic."
      ]
    },
    {
      "cell_type": "code",
      "metadata": {
        "colab": {
          "base_uri": "https://localhost:8080/",
          "height": 265
        },
        "id": "6A_QC7numBqn",
        "outputId": "403818fb-de4d-40e7-bdae-92eb0a960a58"
      },
      "source": [
        "# Take the average of the last 60 days at each timepoint.\n",
        "MAVG = X.rolling(30).mean()\n",
        "plt.plot(X.index, X.values)\n",
        "plt.plot(MAVG.index, MAVG.values)\n",
        "plt.ylabel('High')\n",
        "plt.legend(['MSFT', '30-day MAVG']);"
      ],
      "execution_count": 93,
      "outputs": [
        {
          "output_type": "display_data",
          "data": {
            "image/png": "[encoded data removed]",
            "text/plain": [
              "<Figure size 432x288 with 1 Axes>"
            ]
          },
          "metadata": {
            "tags": [],
            "needs_background": "light"
          }
        }
      ]
    },
    {
      "cell_type": "code",
      "metadata": {
        "colab": {
          "base_uri": "https://localhost:8080/",
          "height": 265
        },
        "id": "UPW7310wgRJj",
        "outputId": "d10a9c4c-2479-4b17-da98-2f32d75eebd2"
      },
      "source": [
        "MAVG = V.rolling(30).mean()\r\n",
        "plt.plot(V.index, V.values)\r\n",
        "plt.plot(MAVG.index, MAVG.values)\r\n",
        "plt.ylabel('Low')\r\n",
        "plt.legend(['MSFT', '30-day MAVG']);"
      ],
      "execution_count": 94,
      "outputs": [
        {
          "output_type": "display_data",
          "data": {
            "image/png": "[encoded data removed]",
            "text/plain": [
              "<Figure size 432x288 with 1 Axes>"
            ]
          },
          "metadata": {
            "tags": [],
            "needs_background": "light"
          }
        }
      ]
    },
    {
      "cell_type": "markdown",
      "metadata": {
        "id": "WHV0cY6FmBqn"
      },
      "source": [
        "This presentation is for informational purposes only and does not constitute an offer to sell, a solicitation to buy, or a recommendation for any security; nor does it constitute an offer to provide investment advisory or other services by Quantopian, Inc. (\"Quantopian\"). Nothing contained herein constitutes investment advice or offers any opinion with respect to the suitability of any security, and any views expressed herein should not be taken as advice to buy, sell, or hold any security or as an endorsement of any security or company. In preparing the information contained herein, Quantopian, Inc. has not taken into account the investment needs, objectives, and financial circumstances of any particular investor. Any views expressed and data illustrated herein were prepared based upon information, believed to be reliable, available to Quantopian, Inc. at the time of publication. Quantopian makes no guarantees as to their accuracy or completeness. All information is subject to change and may quickly become unreliable for various reasons, including changes in market conditions or economic circumstances."
      ]
    }
  ]
}